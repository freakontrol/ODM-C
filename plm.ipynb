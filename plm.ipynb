{
 "cells": [
  {
   "cell_type": "code",
   "execution_count": 1,
   "metadata": {},
   "outputs": [],
   "source": [
    "import os\n",
    "import django\n",
    "os.environ.setdefault('DJANGO_SETTINGS_MODULE', 'PLM.settings')\n",
    "os.environ[\"DJANGO_ALLOW_ASYNC_UNSAFE\"] = \"true\"\n",
    "django.setup()"
   ]
  },
  {
   "cell_type": "code",
   "execution_count": 2,
   "metadata": {},
   "outputs": [
    {
     "name": "stdout",
     "output_type": "stream",
     "text": [
      "MEC\n"
     ]
    }
   ],
   "source": [
    "from plm.models import PartCategory\n",
    "\n",
    "category = PartCategory.objects.get(name='MEC')\n",
    "\n",
    "print(category)\n"
   ]
  },
  {
   "cell_type": "code",
   "execution_count": 9,
   "metadata": {},
   "outputs": [
    {
     "name": "stdout",
     "output_type": "stream",
     "text": [
      "None\n",
      "yvyvyvjhvyv\n",
      "11\n",
      "HW-None-002-v01r01\n"
     ]
    }
   ],
   "source": [
    "from plm.models import PartCategory, PurchaseOption, Part\n",
    "#category = PartCategory.objects.create(name='CAT')\n",
    "purchase_option = PurchaseOption.objects.create()\n",
    "part = Part(description='Test part', purchase_option=purchase_option,  internal_part_number='yvyvyvjhvyv')\n",
    "\n",
    "print(part.id)\n",
    "print(part.internal_part_number)\n",
    "part.save()\n",
    "print(part.id)\n",
    "print(part.internal_part_number)\n"
   ]
  },
  {
   "cell_type": "code",
   "execution_count": 4,
   "metadata": {},
   "outputs": [
    {
     "data": {
      "text/plain": [
       "'HW-MEC-006-v01r01'"
      ]
     },
     "execution_count": 4,
     "metadata": {},
     "output_type": "execute_result"
    }
   ],
   "source": [
    "part.internal_part_number"
   ]
  },
  {
   "cell_type": "code",
   "execution_count": 9,
   "metadata": {},
   "outputs": [
    {
     "data": {
      "text/plain": [
       "<QuerySet [<Part: HW-MEC-001-v01r01>, <Part: HW-MEC-002-v01r01>, <Part: HW-MEC-003-v01r01>, <Part: HW-MEC-004-v01r01>]>"
      ]
     },
     "execution_count": 9,
     "metadata": {},
     "output_type": "execute_result"
    }
   ],
   "source": [
    "Part.objects.all()"
   ]
  }
 ],
 "metadata": {
  "kernelspec": {
   "display_name": "django",
   "language": "python",
   "name": "python3"
  },
  "language_info": {
   "codemirror_mode": {
    "name": "ipython",
    "version": 3
   },
   "file_extension": ".py",
   "mimetype": "text/x-python",
   "name": "python",
   "nbconvert_exporter": "python",
   "pygments_lexer": "ipython3",
   "version": "3.13.0"
  }
 },
 "nbformat": 4,
 "nbformat_minor": 2
}
